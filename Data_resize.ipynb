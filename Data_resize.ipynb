{
 "cells": [
  {
   "cell_type": "code",
   "execution_count": 1,
   "id": "9433c3c5",
   "metadata": {},
   "outputs": [],
   "source": [
    "import shutil\n",
    "import numpy as np\n",
    "import pandas as pd\n",
    "import os\n",
    "import random\n",
    "import re\n",
    "import time\n",
    "from random import shuffle\n",
    "import cv2\n",
    "from PIL import Image \n",
    "import matplotlib.pyplot as plt"
   ]
  },
  {
   "cell_type": "code",
   "execution_count": 2,
   "id": "880291dd",
   "metadata": {},
   "outputs": [],
   "source": [
    "class Compress_img:\n",
    "\n",
    "    def __init__(self, img_path,Class_Path):\n",
    "        self.img_path = img_path\n",
    "        self.img_name = img_path.split('/')[-1]\n",
    "        self.img_Class = Class_Path\n",
    "\n",
    "    def compress_img_CV(self, compress_rate=0.5, show=False):\n",
    "        img = cv2.imread(self.img_path)\n",
    "        img_resize = cv2.resize(img, (int(500), int(500)),\n",
    "                                interpolation=cv2.INTER_AREA)\n",
    "        #cv2.imwrite(self.img_Class + self.img_name, img_resize)\n",
    "        if show:\n",
    "            cv2.imshow(self.img_name, img_resize)\n",
    "            cv2.waitKey(0)"
   ]
  },
  {
   "cell_type": "code",
   "execution_count": 3,
   "id": "5db89c98",
   "metadata": {},
   "outputs": [],
   "source": [
    "def read_RGB_image(Path,pic_save):\n",
    "    global img\n",
    "    global Label\n",
    "    global Train\n",
    "    files = os.listdir(Path)\n",
    "    count=0\n",
    "    if not os.path.exists(pic_save):\n",
    "        os.mkdir(pic_save)\n",
    "    for Farm in files:\n",
    "        Pics = os.listdir(Path+Farm)\n",
    "        pic_count=0\n",
    "        for Pic in Pics:\n",
    "            start=time.time()\n",
    "            Pic_path=Path+Farm+'/'+Pic\n",
    "            pic_save_path=pic_save+Farm+'/'\n",
    "            if not os.path.exists(pic_save_path):\n",
    "                os.mkdir(pic_save_path)\n",
    "            compress = Compress_img(Pic_path,pic_save_path)\n",
    "            compress.compress_img_CV()\n",
    "            end=time.time()\n",
    "            Time = (end-start)*(len(Pics)-(pic_count))\n",
    "            print('%s  Train: %d / %d  Label: %d / %d Time: %d : %d : %d '%(Farm,pic_count,int(len(Pics)),pic_count,int(len(Pics)),\n",
    "                                                                           int(Time/3600),int(Time%3600/60),int(Time%60)%60),end='\\r')\n",
    "            pic_count=pic_count+1\n",
    "        count=count+1"
   ]
  },
  {
   "cell_type": "code",
   "execution_count": 4,
   "id": "6318641a",
   "metadata": {},
   "outputs": [],
   "source": [
    "read_RGB_image('D:/farm_data/Train/','D:/farm_data/Train_RGB_500/')\n",
    "read_RGB_image('D:/farm_data/Valid/','D:/farm_data/Valid_RGB_500/')"
   ]
  }
 ],
 "metadata": {
  "kernelspec": {
   "display_name": "Python 3 (ipykernel)",
   "language": "python",
   "name": "python3"
  },
  "language_info": {
   "codemirror_mode": {
    "name": "ipython",
    "version": 3
   },
   "file_extension": ".py",
   "mimetype": "text/x-python",
   "name": "python",
   "nbconvert_exporter": "python",
   "pygments_lexer": "ipython3",
   "version": "3.8.12"
  }
 },
 "nbformat": 4,
 "nbformat_minor": 5
}
