{
 "cells": [
  {
   "cell_type": "code",
   "execution_count": 25,
   "id": "2788fcff",
   "metadata": {},
   "outputs": [],
   "source": [
    "import tensorflow as tf\n",
    "from tensorflow import keras\n",
    "from tensorflow.keras import Model\n",
    "from tensorflow.keras.models import Sequential,load_model\n",
    "from tensorflow.keras.layers import Dense\n",
    "from tensorflow.keras.layers import Dropout\n",
    "from tensorflow.keras.layers import TimeDistributed\n",
    "from tensorflow.keras.layers import Lambda,Reshape\n",
    "from tensorflow.keras.layers import Flatten\n",
    "from tensorflow.keras.layers import ConvLSTM2D\n",
    "from tensorflow.keras.callbacks import ModelCheckpoint\n",
    "from tensorflow.keras.layers import BatchNormalization\n",
    "from tensorflow.keras.layers import Activation\n",
    "from tensorflow.keras.optimizers import SGD\n",
    "from tensorflow.keras.regularizers import l1,l2,l1_l2\n",
    "from tensorflow.keras.models import Sequential  #用來啟動 NN\n",
    "from tensorflow.keras.layers import Conv2D  # Convolution Operation\n",
    "from tensorflow.keras.layers import MaxPooling2D # Pooling\n",
    "from tensorflow.keras.layers import Flatten\n",
    "from tensorflow.keras.layers import Dense # Fully Connected Networks\n",
    "from tensorflow.keras.layers import Dropout\n",
    "from tensorflow.keras.layers import BatchNormalization\n",
    "import tensorflow.keras as keras  \n",
    "import numpy as np\n",
    "import pandas as pd\n",
    "import os\n",
    "import random\n",
    "import re\n",
    "import time\n",
    "from random import shuffle\n",
    "import itertools\n",
    "import seaborn as sns;\n",
    "from sklearn.metrics import confusion_matrix \n",
    "import matplotlib.pyplot as plt \n",
    "from PIL import Image\n",
    "import pathlib\n",
    "from astropy.visualization import astropy_mpl_style"
   ]
  },
  {
   "cell_type": "code",
   "execution_count": 4,
   "id": "b5f37934",
   "metadata": {},
   "outputs": [],
   "source": [
    "model=load_model('D:/farm_data/model/Restnet_V2_SE_RGB_500(class 14).h5')"
   ]
  },
  {
   "cell_type": "code",
   "execution_count": 28,
   "id": "07bc7bff",
   "metadata": {},
   "outputs": [
    {
     "name": "stdout",
     "output_type": "stream",
     "text": [
      "Found 16060 images belonging to 14 classes.\n"
     ]
    }
   ],
   "source": [
    "img_valid = tf.keras.preprocessing.image.ImageDataGenerator(rescale=1./255,)\n",
    "Valid_path = 'D:/farm_data/Valid_RGB_500/'\n",
    "images_valid = img_valid.flow_from_directory(Valid_path,target_size=(500,500),color_mode='rgb' ,\n",
    "                      batch_size=16060)\n",
    "Input,Output=images_valid.next()\n",
    "Input=np.array(Input)\n",
    "output=np.array(Output)"
   ]
  },
  {
   "cell_type": "code",
   "execution_count": 13,
   "id": "de8f829f",
   "metadata": {},
   "outputs": [
    {
     "name": "stdout",
     "output_type": "stream",
     "text": [
      "Train: 802 / 803 \r"
     ]
    }
   ],
   "source": [
    "ans=[]\n",
    "for i in range(0,int(16060/20)):\n",
    "    predict=model.predict(Input[0+i*20:20+i*20],4)\n",
    "    classes=np.argmax(predict,axis=1)\n",
    "    for j in classes:\n",
    "        ans.append(j)\n",
    "    print('Train: %d / %d '%(i,803),end='\\r')"
   ]
  },
  {
   "cell_type": "code",
   "execution_count": 15,
   "id": "089073e5",
   "metadata": {},
   "outputs": [],
   "source": [
    "def plot_confusion_matrix(cm, classes,\n",
    "                          normalize=False,\n",
    "                          title='Confusion matrix',\n",
    "                          cmap=plt.cm.Blues):\n",
    "    \"\"\"\n",
    "    This function prints and plots the confusion matrix.\n",
    "    Normalization can be applied by setting `normalize=True`.\n",
    "    \"\"\"\n",
    "    if normalize:\n",
    "        cm = cm.astype('float') / cm.sum(axis=1)[:, np.newaxis]\n",
    "        print(\"Normalized confusion matrix\")\n",
    "    else:\n",
    "        print('Confusion matrix, without normalization')\n",
    "\n",
    "    print(cm)\n",
    "    astropy_mpl_style['axes.grid'] = False\n",
    "    plt.style.use(astropy_mpl_style)\n",
    "    plt.imshow(cm, interpolation='nearest', cmap=cmap)\n",
    "    plt.title(title)\n",
    "    plt.colorbar()\n",
    "    tick_marks = np.arange(len(classes))\n",
    "    plt.xticks(tick_marks, classes, rotation=90)\n",
    "    plt.yticks(tick_marks, classes)\n",
    "\n",
    "    fmt = '.2f' if normalize else 'd'\n",
    "    thresh = cm.max() / 2.\n",
    "    for i, j in itertools.product(range(cm.shape[0]), range(cm.shape[1])):\n",
    "        plt.text(j, i, format(cm[i, j], fmt),\n",
    "                 horizontalalignment=\"center\",\n",
    "                 color=\"white\" if cm[i, j] > thresh else \"black\")\n",
    "\n",
    "    plt.ylabel('True label')\n",
    "    plt.xlabel('Predicted label')\n",
    "    plt.figure(figsize=(61,61))\n",
    "    plt.tight_layout()"
   ]
  },
  {
   "cell_type": "code",
   "execution_count": 16,
   "id": "f6cb42cd",
   "metadata": {},
   "outputs": [],
   "source": [
    "label=[]\n",
    "for i in Output:\n",
    "    for j in range(14):\n",
    "        if i[j]==1:\n",
    "            label.append(j)\n",
    "            break"
   ]
  },
  {
   "cell_type": "code",
   "execution_count": 18,
   "id": "56da585e",
   "metadata": {},
   "outputs": [
    {
     "name": "stdout",
     "output_type": "stream",
     "text": [
      "Confusion matrix, without normalization\n",
      "[[ 807    0    0    0    0    0    1    0    0    0    0    0    0    0]\n",
      " [   1 2521    1    1    1    6    3   13    0    1   10    7    2    1]\n",
      " [   0    0  389    0    0    0    0    2    0    0    0    0    0    0]\n",
      " [   4    0    0 1915    0    3    3    5    0    1    0    7    6    1]\n",
      " [   1    0    0    1  387    0    0    0    0    0    0    0    0    1]\n",
      " [   0    0    1   10    0 1516    0    3    3    0    4    8    6    3]\n",
      " [   0    0    0    0    0    0  926    1    0    0    0    0    0    1]\n",
      " [   0    3    2    1    0    1    1 2055    0    1    2   25    0    0]\n",
      " [   1    1    0    0    0    1    0    0 1596    0    0    1    0    0]\n",
      " [   1    2    0    0    1    0    0    0    0  327    0    5    0    0]\n",
      " [   0    2    0    0    0    1    0    0    1    0 1571    0    0    0]\n",
      " [   0    3    6    2    0    2    5   25    0    2    3 1083    1    0]\n",
      " [   0    0    0    3    0    1    0    0    1    0    0    0  428    1]\n",
      " [   1    0    0    0    3    0    5    1    0    4    0    1    0  293]]\n"
     ]
    },
    {
     "data": {
      "image/png": "[encoded data removed]",
      "text/plain": [
       "<Figure size 576x432 with 2 Axes>"
      ]
     },
     "metadata": {},
     "output_type": "display_data"
    },
    {
     "data": {
      "text/plain": [
       "<Figure size 4392x4392 with 0 Axes>"
      ]
     },
     "metadata": {},
     "output_type": "display_data"
    }
   ],
   "source": [
    "#畫混淆矩陣\n",
    "sns.set() \n",
    "C2= confusion_matrix(np.array(ans), label, labels=[0,1,2,3,4,5,6,7,8,9,10,11,12,13])\n",
    "plot_confusion_matrix(C2, classes=[0,1,2,3,4,5,6,7,8,9,10,11,12,13],normalize=False,\n",
    "                    title=\"confusion matrix\")"
   ]
  },
  {
   "cell_type": "code",
   "execution_count": 19,
   "id": "a53a3180",
   "metadata": {},
   "outputs": [
    {
     "name": "stdout",
     "output_type": "stream",
     "text": [
      "0 F1-score: 0.9938423645320198\n",
      "1 F1-score: 0.9886274509803921\n",
      "2 F1-score: 0.9848101265822785\n",
      "3 F1-score: 0.9876224858174316\n",
      "4 F1-score: 0.9897698209718669\n",
      "5 F1-score: 0.9828200972447325\n",
      "6 F1-score: 0.9893162393162394\n",
      "7 F1-score: 0.9795042897998094\n",
      "8 F1-score: 0.9971883786316776\n",
      "9 F1-score: 0.9732142857142857\n",
      "10 F1-score: 0.9927330173775671\n",
      "11 F1-score: 0.9546055531070955\n",
      "12 F1-score: 0.9760547320410491\n",
      "13 F1-score: 0.9622331691297208\n"
     ]
    }
   ],
   "source": [
    "#F1-score\n",
    "for i in range(14):\n",
    "    FN=0\n",
    "    TP=C2[i][i]\n",
    "    FP=0\n",
    "    TN=0\n",
    "    for j in range(14):\n",
    "        if j==i:\n",
    "            continue\n",
    "        FN=FN+C2[i][j]\n",
    "    for j in range(14):\n",
    "        if j==i:\n",
    "            continue\n",
    "        FP=FP+C2[j][i]\n",
    "    TN=len(ans)-FP-TP\n",
    "    precision=(TP)/(TP+FP)\n",
    "    recall=(TP)/(TP+FN)\n",
    "    print(i,'F1-score:',(2*((precision*recall)/(precision+recall))))"
   ]
  }
 ],
 "metadata": {
  "kernelspec": {
   "display_name": "Python 3 (ipykernel)",
   "language": "python",
   "name": "python3"
  },
  "language_info": {
   "codemirror_mode": {
    "name": "ipython",
    "version": 3
   },
   "file_extension": ".py",
   "mimetype": "text/x-python",
   "name": "python",
   "nbconvert_exporter": "python",
   "pygments_lexer": "ipython3",
   "version": "3.8.12"
  }
 },
 "nbformat": 4,
 "nbformat_minor": 5
}
