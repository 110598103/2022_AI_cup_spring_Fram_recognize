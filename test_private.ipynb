{
 "cells": [
  {
   "cell_type": "code",
   "execution_count": 2,
   "id": "611c1429",
   "metadata": {},
   "outputs": [],
   "source": [
    "import tensorflow as tf\n",
    "from tensorflow import keras\n",
    "from tensorflow.keras import Model\n",
    "from tensorflow.keras.models import Sequential,load_model\n",
    "from tensorflow.keras.layers import Dense\n",
    "from tensorflow.keras.layers import LSTM\n",
    "from tensorflow.keras.layers import Dropout\n",
    "from tensorflow.keras.layers import TimeDistributed\n",
    "from tensorflow.keras.layers import Lambda,Reshape\n",
    "from tensorflow.keras.layers import Flatten\n",
    "from tensorflow.keras.layers import ConvLSTM2D\n",
    "from tensorflow.keras.callbacks import ModelCheckpoint\n",
    "from tensorflow.keras.layers import BatchNormalization\n",
    "from tensorflow.keras.layers import Activation\n",
    "from tensorflow.keras.optimizers import SGD\n",
    "from tensorflow.keras.regularizers import l1,l2,l1_l2\n",
    "from tensorflow.keras.models import Sequential  #用來啟動 NN\n",
    "from tensorflow.keras.layers import Conv2D  # Convolution Operation\n",
    "from tensorflow.keras.layers import MaxPooling2D # Pooling\n",
    "from tensorflow.keras.layers import Flatten\n",
    "from tensorflow.keras.layers import Dense # Fully Connected Networks\n",
    "from tensorflow.keras.layers import Dropout\n",
    "from tensorflow.keras.layers import BatchNormalization\n",
    "import tensorflow.keras as keras  \n",
    "\n",
    "import numpy as np\n",
    "import pandas as pd\n",
    "import os\n",
    "import random\n",
    "import re\n",
    "import time\n",
    "from random import shuffle\n",
    "from PIL import Image\n",
    "import numpy as np\n",
    "import tensorflow as tf\n",
    "import pathlib\n",
    "import os\n",
    "import matplotlib.pyplot as plt\n",
    "import pandas as pd\n",
    "import random\n",
    "import cv2"
   ]
  },
  {
   "cell_type": "code",
   "execution_count": 3,
   "id": "e0dda58e",
   "metadata": {},
   "outputs": [],
   "source": [
    "#model位置\n",
    "model=load_model('D:/farm_data/model/Restnet_V2_SE_RGB_500(class 14).h5')"
   ]
  },
  {
   "cell_type": "code",
   "execution_count": 4,
   "id": "0c1edd70",
   "metadata": {},
   "outputs": [],
   "source": [
    "#private data位置\n",
    "Path='D:/farm_data/private/'\n",
    "PathList = os.listdir(Path)"
   ]
  },
  {
   "cell_type": "code",
   "execution_count": 5,
   "id": "0049afcd",
   "metadata": {},
   "outputs": [],
   "source": [
    "img_valid = tf.keras.preprocessing.image.ImageDataGenerator(rescale=1./255,)"
   ]
  },
  {
   "cell_type": "code",
   "execution_count": 6,
   "id": "54110bea",
   "metadata": {},
   "outputs": [],
   "source": [
    "def read_RGB_image(Path,img_valid):\n",
    "    Private_ans=[]\n",
    "    Pics = os.listdir(Path)\n",
    "    pic_count=0\n",
    "    for Pic in Pics:\n",
    "        start=time.time()\n",
    "        Pic_path=Path+Pic\n",
    "        img = cv2.imread(Pic_path)\n",
    "        img = cv2.resize(img, (500, 500),\n",
    "                                interpolation=cv2.INTER_AREA)\n",
    "        image = cv2.cvtColor(img,cv2.COLOR_BGR2RGB)\n",
    "        image = np.array([image])\n",
    "        image = np.reshape(image,(1,500,500,3))\n",
    "        image = img_valid.flow(image,batch_size=1)\n",
    "        predict=model.predict(image,1)\n",
    "        classes=np.argmax(predict,axis=1)\n",
    "        Private_ans.append([Pic,classes[0]])\n",
    "        end=time.time()\n",
    "        Time = (end-start)*(len(Pics)-(pic_count))\n",
    "        print('Private: %d / %d Time: %d : %d : %d '\n",
    "              %(pic_count,int(len(Pics)),\n",
    "            int(Time/3600),int(Time%3600/60),int(Time%60)%60),end='\\r')\n",
    "        pic_count=pic_count+1\n",
    "        \n",
    "    return Private_ans"
   ]
  },
  {
   "cell_type": "code",
   "execution_count": 7,
   "id": "4daeb310",
   "metadata": {},
   "outputs": [
    {
     "name": "stdout",
     "output_type": "stream",
     "text": [
      "D:/farm_data/private/test_0-010/test_0/\n",
      "Private: 1267 / 1268 Time: 0 : 0 : 0  \r"
     ]
    },
    {
     "name": "stderr",
     "output_type": "stream",
     "text": [
      "C:\\Users\\USER\\AppData\\Local\\Temp\\ipykernel_22004\\2145542174.py:11: FutureWarning: The frame.append method is deprecated and will be removed from pandas in a future version. Use pandas.concat instead.\n",
      "  df=df.append(df_new,ignore_index=True)\n"
     ]
    },
    {
     "name": "stdout",
     "output_type": "stream",
     "text": [
      "Private: 1265 / 1266 Time: 0 : 0 : 0  \r"
     ]
    },
    {
     "name": "stderr",
     "output_type": "stream",
     "text": [
      "C:\\Users\\USER\\AppData\\Local\\Temp\\ipykernel_22004\\2145542174.py:11: FutureWarning: The frame.append method is deprecated and will be removed from pandas in a future version. Use pandas.concat instead.\n",
      "  df=df.append(df_new,ignore_index=True)\n"
     ]
    },
    {
     "name": "stdout",
     "output_type": "stream",
     "text": [
      "Private: 1275 / 1276 Time: 0 : 0 : 0  \r"
     ]
    },
    {
     "name": "stderr",
     "output_type": "stream",
     "text": [
      "C:\\Users\\USER\\AppData\\Local\\Temp\\ipykernel_22004\\2145542174.py:11: FutureWarning: The frame.append method is deprecated and will be removed from pandas in a future version. Use pandas.concat instead.\n",
      "  df=df.append(df_new,ignore_index=True)\n"
     ]
    },
    {
     "name": "stdout",
     "output_type": "stream",
     "text": [
      "Private: 0 / 1211 Time: 0 : 3 : 14 0  \r"
     ]
    },
    {
     "name": "stderr",
     "output_type": "stream",
     "text": [
      "C:\\Users\\USER\\AppData\\Local\\Temp\\ipykernel_22004\\2145542174.py:11: FutureWarning: The frame.append method is deprecated and will be removed from pandas in a future version. Use pandas.concat instead.\n",
      "  df=df.append(df_new,ignore_index=True)\n"
     ]
    },
    {
     "name": "stdout",
     "output_type": "stream",
     "text": [
      "Private: 1210 / 1211 Time: 0 : 0 : 0  \r"
     ]
    },
    {
     "name": "stderr",
     "output_type": "stream",
     "text": [
      "C:\\Users\\USER\\AppData\\Local\\Temp\\ipykernel_22004\\2145542174.py:11: FutureWarning: The frame.append method is deprecated and will be removed from pandas in a future version. Use pandas.concat instead.\n",
      "  df=df.append(df_new,ignore_index=True)\n"
     ]
    },
    {
     "name": "stdout",
     "output_type": "stream",
     "text": [
      "Private: 1200 / 1201 Time: 0 : 0 : 0  \r"
     ]
    },
    {
     "name": "stderr",
     "output_type": "stream",
     "text": [
      "C:\\Users\\USER\\AppData\\Local\\Temp\\ipykernel_22004\\2145542174.py:11: FutureWarning: The frame.append method is deprecated and will be removed from pandas in a future version. Use pandas.concat instead.\n",
      "  df=df.append(df_new,ignore_index=True)\n"
     ]
    },
    {
     "name": "stdout",
     "output_type": "stream",
     "text": [
      "Private: 1249 / 1250 Time: 0 : 0 : 0  \r"
     ]
    },
    {
     "name": "stderr",
     "output_type": "stream",
     "text": [
      "C:\\Users\\USER\\AppData\\Local\\Temp\\ipykernel_22004\\2145542174.py:11: FutureWarning: The frame.append method is deprecated and will be removed from pandas in a future version. Use pandas.concat instead.\n",
      "  df=df.append(df_new,ignore_index=True)\n"
     ]
    },
    {
     "name": "stdout",
     "output_type": "stream",
     "text": [
      "Private: 1244 / 1245 Time: 0 : 0 : 0  \r"
     ]
    },
    {
     "name": "stderr",
     "output_type": "stream",
     "text": [
      "C:\\Users\\USER\\AppData\\Local\\Temp\\ipykernel_22004\\2145542174.py:11: FutureWarning: The frame.append method is deprecated and will be removed from pandas in a future version. Use pandas.concat instead.\n",
      "  df=df.append(df_new,ignore_index=True)\n"
     ]
    },
    {
     "name": "stdout",
     "output_type": "stream",
     "text": [
      "Private: 1255 / 1256 Time: 0 : 0 : 0  \r"
     ]
    },
    {
     "name": "stderr",
     "output_type": "stream",
     "text": [
      "C:\\Users\\USER\\AppData\\Local\\Temp\\ipykernel_22004\\2145542174.py:11: FutureWarning: The frame.append method is deprecated and will be removed from pandas in a future version. Use pandas.concat instead.\n",
      "  df=df.append(df_new,ignore_index=True)\n"
     ]
    },
    {
     "name": "stdout",
     "output_type": "stream",
     "text": [
      "Private: 0 / 1260 Time: 0 : 2 : 39 0  \r"
     ]
    },
    {
     "name": "stderr",
     "output_type": "stream",
     "text": [
      "C:\\Users\\USER\\AppData\\Local\\Temp\\ipykernel_22004\\2145542174.py:11: FutureWarning: The frame.append method is deprecated and will be removed from pandas in a future version. Use pandas.concat instead.\n",
      "  df=df.append(df_new,ignore_index=True)\n"
     ]
    },
    {
     "name": "stdout",
     "output_type": "stream",
     "text": [
      "Private: 1259 / 1260 Time: 0 : 0 : 0  \r"
     ]
    },
    {
     "name": "stderr",
     "output_type": "stream",
     "text": [
      "C:\\Users\\USER\\AppData\\Local\\Temp\\ipykernel_22004\\2145542174.py:11: FutureWarning: The frame.append method is deprecated and will be removed from pandas in a future version. Use pandas.concat instead.\n",
      "  df=df.append(df_new,ignore_index=True)\n"
     ]
    },
    {
     "name": "stdout",
     "output_type": "stream",
     "text": [
      "Private: 1246 / 1247 Time: 0 : 0 : 0  \r"
     ]
    },
    {
     "name": "stderr",
     "output_type": "stream",
     "text": [
      "C:\\Users\\USER\\AppData\\Local\\Temp\\ipykernel_22004\\2145542174.py:11: FutureWarning: The frame.append method is deprecated and will be removed from pandas in a future version. Use pandas.concat instead.\n",
      "  df=df.append(df_new,ignore_index=True)\n"
     ]
    },
    {
     "name": "stdout",
     "output_type": "stream",
     "text": [
      "Private: 1273 / 1274 Time: 0 : 0 : 0  \r"
     ]
    },
    {
     "name": "stderr",
     "output_type": "stream",
     "text": [
      "C:\\Users\\USER\\AppData\\Local\\Temp\\ipykernel_22004\\2145542174.py:11: FutureWarning: The frame.append method is deprecated and will be removed from pandas in a future version. Use pandas.concat instead.\n",
      "  df=df.append(df_new,ignore_index=True)\n"
     ]
    },
    {
     "name": "stdout",
     "output_type": "stream",
     "text": [
      "Private: 1277 / 1278 Time: 0 : 0 : 0  \r"
     ]
    },
    {
     "name": "stderr",
     "output_type": "stream",
     "text": [
      "C:\\Users\\USER\\AppData\\Local\\Temp\\ipykernel_22004\\2145542174.py:11: FutureWarning: The frame.append method is deprecated and will be removed from pandas in a future version. Use pandas.concat instead.\n",
      "  df=df.append(df_new,ignore_index=True)\n"
     ]
    },
    {
     "name": "stdout",
     "output_type": "stream",
     "text": [
      "Private: 1258 / 1259 Time: 0 : 0 : 0  \r"
     ]
    },
    {
     "name": "stderr",
     "output_type": "stream",
     "text": [
      "C:\\Users\\USER\\AppData\\Local\\Temp\\ipykernel_22004\\2145542174.py:11: FutureWarning: The frame.append method is deprecated and will be removed from pandas in a future version. Use pandas.concat instead.\n",
      "  df=df.append(df_new,ignore_index=True)\n"
     ]
    }
   ],
   "source": [
    "for i in PathList:\n",
    "    if i == PathList[0]:\n",
    "        Path_pic = os.listdir(Path+i)\n",
    "        print(Path+i+'/'+Path_pic[0]+'/')\n",
    "        Private_ans=read_RGB_image(Path+i+'/'+Path_pic[0]+'/',img_valid)\n",
    "        df = pd.DataFrame(Private_ans,columns=['檔案名稱','類別'])\n",
    "    else:\n",
    "        Path_pic = os.listdir(Path+i)\n",
    "        Private_ans=read_RGB_image(Path+i+'/'+Path_pic[0]+'/',img_valid)\n",
    "        df_new = pd.DataFrame(Private_ans,columns=['檔案名稱','類別'])\n",
    "        df=df.append(df_new,ignore_index=True)"
   ]
  },
  {
   "cell_type": "code",
   "execution_count": 8,
   "id": "965ee260",
   "metadata": {},
   "outputs": [],
   "source": [
    "#讀去類別名稱\n",
    "Pics = os.listdir(\"D:/farm_data/Train_RGB_500\")\n",
    "data=[]\n",
    "for i in df.values:\n",
    "    data.append([i[0],Pics[i[1]]])\n",
    "df = pd.DataFrame(data,columns=[\"image_filename\",\"label\"])\n",
    "#儲存CSV的位置\n",
    "df.to_csv('Restnet_V2_SE_RGB_500(class 14)_columns.csv',index=False)\n"
   ]
  }
 ],
 "metadata": {
  "kernelspec": {
   "display_name": "Python 3 (ipykernel)",
   "language": "python",
   "name": "python3"
  },
  "language_info": {
   "codemirror_mode": {
    "name": "ipython",
    "version": 3
   },
   "file_extension": ".py",
   "mimetype": "text/x-python",
   "name": "python",
   "nbconvert_exporter": "python",
   "pygments_lexer": "ipython3",
   "version": "3.8.12"
  }
 },
 "nbformat": 4,
 "nbformat_minor": 5
}
